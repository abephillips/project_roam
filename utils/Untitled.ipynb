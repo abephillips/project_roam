{
 "cells": [
  {
   "cell_type": "code",
   "execution_count": 1,
   "id": "b03664e1",
   "metadata": {},
   "outputs": [],
   "source": [
    "import numpy as np\n",
    "import pandas as pd\n",
    "import matplotlib.pyplot as plt\n",
    "\n",
    "import streamlit as st\n",
    "import time\n",
    "import joblib\n",
    "import simpy\n",
    "\n",
    "import pandas as pd\n",
    "import numpy as np\n",
    "import plotly.express as px\n",
    "import plotly.graph_objects as go\n",
    "\n",
    "import openpyxl\n",
    "import tempfile\n",
    "\n",
    "# from models.VOVO import *\n",
    "import random"
   ]
  },
  {
   "cell_type": "code",
   "execution_count": 13,
   "id": "6fe43aac",
   "metadata": {},
   "outputs": [],
   "source": [
    "\n",
    "class Team: \n",
    "    def __init__(self, env, attrition_model, ramping_function): \n",
    "        self.Headcount = simpy.Container(env)\n",
    "        self.Capacity = simpy.Container(env)\n",
    "        self.attrition_model = attrition_model\n",
    "        self.ramping_function = ramping_function\n",
    "        \n",
    "        \n",
    "def attrit(env, N, record, date, team, n_weeks, init): \n",
    "\n",
    "    month = date.month\n",
    "    if init == 1:\n",
    "        pass\n",
    "    else:\n",
    "        team.Headcount.put(N)\n",
    "        team.Capacity.put(team.ramping_function(n_weeks) * N)\n",
    "    record[env.now, [n_weeks, -2]] += N\n",
    "    while N > 0:\n",
    "\n",
    "        n_weeks += 1 # increase week\n",
    "        date += pd.Timedelta(1, unit = 'W')\n",
    "        month = date.month\n",
    "\n",
    "\n",
    "        l = [[n_weeks, month]]\n",
    "        p = team.attrition_model.predict_proba(l)[0]\n",
    "\n",
    "        N_new = int(N*p[0])#binom.rvs(N, p)[0]\n",
    "        leaving = N - N_new\n",
    "        staying = N_new\n",
    "        N = N_new\n",
    "\n",
    "        if leaving > 0:\n",
    "            team.Headcount.get(leaving)\n",
    "            team.Capacity.get(team.ramping_function(n_weeks - 1) * leaving)\n",
    "\n",
    "        if staying > 0: \n",
    "            team.Capacity.get(team.ramping_function(n_weeks - 1) * staying)\n",
    "            team.Capacity.put(team.ramping_function(n_weeks) * staying)\n",
    "\n",
    "        yield env.timeout(1)\n",
    "\n",
    "        record[env.now, [n_weeks, -2]] += N\n",
    "\n",
    "                \n",
    "def sustain(env, N, record, start_date, end_date, n_weeks, target_capacity, mode, team):   \n",
    "\n",
    "    date = start_date\n",
    "    month = date.month\n",
    "    initial_capacity = team.ramping_function(n_weeks) * (N)\n",
    "    print(initial_capacity)\n",
    "    initial_headcount = N\n",
    "    # N = initial_headcount\n",
    "\n",
    "    team.Headcount.put(initial_headcount)\n",
    "    record[env.now, [n_weeks-1, -1]] += N\n",
    "\n",
    "    team.Capacity.put(initial_capacity)\n",
    "    init = 0\n",
    "\n",
    "\n",
    "    while True: \n",
    "\n",
    "        team_size = team.Headcount.level\n",
    "        current_capacity = team.Capacity.level \n",
    "        capacity_difference = target_capacity[env.now] - current_capacity\n",
    "\n",
    "\n",
    "\n",
    "        if mode == 'capacity': \n",
    "\n",
    "            new_weeks = 3\n",
    "\n",
    "            new_folks = capacity_difference//team.ramping_function(new_weeks)\n",
    "            if new_folks > 0:\n",
    "                record[env.now - 3, [0, -2]] += new_folks\n",
    "                record[env.now - 2, [1, -2]] += new_folks\n",
    "                record[env.now - 1, [2, -2]] += new_folks\n",
    "\n",
    "        elif mode == 'headcount': \n",
    "            new_folks = target_headcount[env.now] - team_size\n",
    "\n",
    "            new_weeks = 0\n",
    "        else: \n",
    "            raise ValueError('Not a valid mode')\n",
    "\n",
    "        if new_folks > 0: \n",
    "            init += 2\n",
    "            env.process(\n",
    "                attrit(env, new_folks, record, date, team, new_weeks, init)\n",
    "            )\n",
    "\n",
    "        n_weeks += 1\n",
    "        date += pd.Timedelta(1, unit = 'W')\n",
    "        month = date.month  \n",
    "\n",
    "\n",
    "        l = [[n_weeks, month]]\n",
    "        p = team.attrition_model.predict_proba(l)[0]\n",
    "\n",
    "        N_new = int(N*p[0])#binom.rvs(N, p)[0]\n",
    "\n",
    "        additional_loss = 0\n",
    "#         if len(effective_changes) > 0: \n",
    "#             cohort = N_new\n",
    "#             for i, row in effective_changes.iterrows():\n",
    "#                 change_amount = team_size - target_headcount[env.now]\n",
    "#                 layoff = np.clip(int(change_amount), a_min = 0, a_max = cohort)\n",
    "#                 cohort = cohort - layoff\n",
    "#                 additional_loss += layoff\n",
    "\n",
    "        leaving = (N - N_new) + additional_loss\n",
    "        staying = N_new - additional_loss\n",
    "        N = staying\n",
    "\n",
    "        if leaving > 0:\n",
    "            team.Headcount.get(leaving)\n",
    "            team.Capacity.get(team.ramping_function(n_weeks-1) * leaving)\n",
    "\n",
    "        if staying > 0: \n",
    "            team.Capacity.get(team.ramping_function(n_weeks - 1) * staying)\n",
    "            team.Capacity.put(team.ramping_function(n_weeks) * staying)\n",
    "\n",
    "\n",
    "        yield env.timeout(1)\n",
    "        # record the headcount of this wave\n",
    "        record[env.now, [n_weeks, -1]] += N\n",
    "\n",
    "# temporaty! define ramping function\n",
    "def ramping_function(week, ppr_list): \n",
    "    for w, tickets in enumerate(ppr_list): \n",
    "        if week == w: \n",
    "            return tickets\n",
    "    return ppr_list[-1]\n",
    "\n",
    "def location_roles(location, actuals): \n",
    "    roles = actuals.loc[actuals.location == location].role.unique()\n",
    "    return tuple(roles)\n",
    "\n",
    "def get_initials(location, role, actuals): \n",
    "    act = actuals.loc[\n",
    "        (actuals.location == location) & (actuals.role == role)\n",
    "    ]\n",
    "    \n",
    "    return act\n",
    "    \n",
    "        \n",
    "def calc_goals(d3, goal, deadline, event, other_goals = []): \n",
    "\n",
    "    n = d3[d3['y'] == event]\n",
    "    l, val = n['stats'].values[0]\n",
    "    goal /= val\n",
    "    deadline -= pd.to_timedelta(l, unit = 'W')\n",
    "    \n",
    "    other_goals.append({'date': deadline, 'quantity': np.ceil(goal), 'event': n['x'].values[0]})\n",
    "    \n",
    "    try: \n",
    "        return calc_goals(d3, goal, deadline, n['x'].values[0], other_goals)\n",
    "    except IndexError: \n",
    "        return other_goals\n",
    "    \n",
    "def get_duration(todays_date, deadlines, ac_oa_lat): \n",
    "    durrs = []\n",
    "    for deadline in deadlines: \n",
    "        durr = (deadline - todays_date).days // 7\n",
    "        durrs.append(min([durr, ac_oa_lat]))\n",
    "    return durrs\n",
    "\n",
    "\n",
    "def realize(row, L):\n",
    "    dr = pd.date_range(row['date'] - pd.Timedelta(row['durr'] + 1, unit = 'W'), row['date'], freq = 'W')\n",
    "    e = np.ceil(row['quantity'] / len(dr))\n",
    "    cl = row['event']\n",
    "\n",
    "    df = pd.DataFrame()\n",
    "    df['date'] = dr\n",
    "    df['quantity'] = e\n",
    "    df['event'] = cl\n",
    "\n",
    "    L.append(df)\n",
    "    return\n",
    "\n",
    "# @st.cache_resource\n",
    "def Simulation(target_capacity, \n",
    "               ramping_function,\n",
    "               attrition_model):\n",
    "    \n",
    "    start_date = target_capacity.index.min()\n",
    "    end_date = target_capacity.index.max()\n",
    "    target_capacity = target_capacity.values\n",
    "    N = np.ceil(target_capacity[0] / ramping_function(5))\n",
    "    mode = 'capacity'\n",
    "    \n",
    "    n_weeks = 12\n",
    "\n",
    "    sim_len = (end_date - start_date).days // 7    \n",
    "    record = np.zeros((sim_len, n_weeks + sim_len + 2))\n",
    "\n",
    "    env = simpy.Environment()\n",
    "    team = Team(env, attrition_model, ramping_function)\n",
    "    \n",
    "    env.process(\n",
    "        sustain(env, N, record, start_date, end_date, n_weeks, target_capacity = target_capacity,\n",
    "                team = team, mode = mode)\n",
    "    )\n",
    "    env.run(sim_len)\n",
    "    rf = np.vectorize(ramping_function)\n",
    "    period = pd.date_range(start_date, end_date, freq = 'W', inclusive = 'left')\n",
    "    df = pd.DataFrame(record)\n",
    "    \n",
    "    df = df.assign(\n",
    "        global_capacity = np.dot(df.iloc[:, :-2].values, rf(df.iloc[:, :-2].columns).T),\n",
    "        global_headcount = (df.iloc[:, -2] + df.iloc[:, -1]), \n",
    "        vovo_headcount = df.iloc[:, -2], \n",
    "        remote_headcount = df.iloc[:, -1], \n",
    "        date = period\n",
    "    )\n",
    "    \n",
    "    r, c = record.shape\n",
    "    df['weekly_attrition'] = df[0]\n",
    "\n",
    "    LL_agg = df.copy()\n",
    "\n",
    "#     LL_agg['month'] = LL_agg.date.dt.month\n",
    "#     LL_agg['Year'] = LL_agg.date.dt.year\n",
    "#     LL_agg['Quarter'] = np.nan\n",
    "#     LL_agg.loc[LL_agg.month == 1, 'Quarter'] = 1\n",
    "#     LL_agg.loc[LL_agg.month == 4, 'Quarter'] = 2\n",
    "#     LL_agg.loc[LL_agg.month == 7, 'Quarter'] = 3\n",
    "#     LL_agg.loc[LL_agg.month == 10, 'Quarter'] = 4\n",
    "\n",
    "#     LL_agg = LL_agg.fillna(method = 'ffill')\n",
    "#     LL_agg['last_q'] = LL_agg['Quarter'].shift(1)\n",
    "\n",
    "    LL_agg['cum_tix'] = LL_agg.global_capacity.cumsum()\n",
    "    LL_agg_loc = LL_agg.copy()\n",
    "\n",
    "    LL_agg_loc['total_team_size'] = LL_agg_loc.loc[:, 0:c-1].sum(axis = 1)\n",
    "    LL_agg_loc['5+'] = LL_agg_loc.loc[:, 4:c-1].sum(axis = 1)\n",
    "    LL_agg_loc['date'] = pd.to_datetime(LL_agg_loc['date']).dt.date\n",
    "\n",
    "    return LL_agg, LL_agg_loc\n"
   ]
  },
  {
   "cell_type": "code",
   "execution_count": 14,
   "id": "e69495f1",
   "metadata": {},
   "outputs": [],
   "source": [
    "attrition_model = joblib.load(\"../models/attrition_model.joblib\")"
   ]
  },
  {
   "cell_type": "code",
   "execution_count": 55,
   "id": "a46e046b",
   "metadata": {},
   "outputs": [],
   "source": [
    "ac_ppr = 220\n",
    "ppr_list = [n * ac_ppr for n in [0.25, 0.5, 0.75, 1]]\n",
    "ramping_function_rec = lambda n : ramping_function(n, ppr_list = ppr_list)"
   ]
  },
  {
   "cell_type": "code",
   "execution_count": 91,
   "id": "bbb79b47",
   "metadata": {},
   "outputs": [
    {
     "data": {
      "text/html": [
       "<div>\n",
       "<style scoped>\n",
       "    .dataframe tbody tr th:only-of-type {\n",
       "        vertical-align: middle;\n",
       "    }\n",
       "\n",
       "    .dataframe tbody tr th {\n",
       "        vertical-align: top;\n",
       "    }\n",
       "\n",
       "    .dataframe thead th {\n",
       "        text-align: right;\n",
       "    }\n",
       "</style>\n",
       "<table border=\"1\" class=\"dataframe\">\n",
       "  <thead>\n",
       "    <tr style=\"text-align: right;\">\n",
       "      <th></th>\n",
       "      <th>ac</th>\n",
       "    </tr>\n",
       "  </thead>\n",
       "  <tbody>\n",
       "    <tr>\n",
       "      <th>2024-01-28</th>\n",
       "      <td>6509</td>\n",
       "    </tr>\n",
       "    <tr>\n",
       "      <th>2024-02-04</th>\n",
       "      <td>6509</td>\n",
       "    </tr>\n",
       "    <tr>\n",
       "      <th>2024-02-11</th>\n",
       "      <td>6509</td>\n",
       "    </tr>\n",
       "    <tr>\n",
       "      <th>2024-02-18</th>\n",
       "      <td>6509</td>\n",
       "    </tr>\n",
       "    <tr>\n",
       "      <th>2024-02-25</th>\n",
       "      <td>6509</td>\n",
       "    </tr>\n",
       "    <tr>\n",
       "      <th>2024-03-03</th>\n",
       "      <td>6509</td>\n",
       "    </tr>\n",
       "    <tr>\n",
       "      <th>2024-03-10</th>\n",
       "      <td>6509</td>\n",
       "    </tr>\n",
       "  </tbody>\n",
       "</table>\n",
       "</div>"
      ],
      "text/plain": [
       "              ac\n",
       "2024-01-28  6509\n",
       "2024-02-04  6509\n",
       "2024-02-11  6509\n",
       "2024-02-18  6509\n",
       "2024-02-25  6509\n",
       "2024-03-03  6509\n",
       "2024-03-10  6509"
      ]
     },
     "execution_count": 91,
     "metadata": {},
     "output_type": "execute_result"
    }
   ],
   "source": [
    "start_time =pd.to_datetime('2024-01-28')\n",
    "end_time = pd.to_datetime('2024-03-10')\n",
    "\n",
    "target_capacity_ac = pd.DataFrame(index = pd.date_range(start_time, end_time, freq = 'W'))\n",
    "target_capacity_ac['ac'] = 6509\n",
    "\n",
    "target_capacity_ac"
   ]
  },
  {
   "cell_type": "code",
   "execution_count": 92,
   "id": "d4107555",
   "metadata": {},
   "outputs": [
    {
     "name": "stdout",
     "output_type": "stream",
     "text": [
      "[6600.]\n"
     ]
    }
   ],
   "source": [
    "LL_agg, LL_agg_loc = Simulation(target_capacity_ac, ramping_function = ramping_function_rec, attrition_model = attrition_model)\n"
   ]
  },
  {
   "cell_type": "code",
   "execution_count": 93,
   "id": "d46dbd13",
   "metadata": {},
   "outputs": [
    {
     "data": {
      "text/html": [
       "<div>\n",
       "<style scoped>\n",
       "    .dataframe tbody tr th:only-of-type {\n",
       "        vertical-align: middle;\n",
       "    }\n",
       "\n",
       "    .dataframe tbody tr th {\n",
       "        vertical-align: top;\n",
       "    }\n",
       "\n",
       "    .dataframe thead th {\n",
       "        text-align: right;\n",
       "    }\n",
       "</style>\n",
       "<table border=\"1\" class=\"dataframe\">\n",
       "  <thead>\n",
       "    <tr style=\"text-align: right;\">\n",
       "      <th></th>\n",
       "      <th>0</th>\n",
       "      <th>1</th>\n",
       "      <th>2</th>\n",
       "      <th>3</th>\n",
       "      <th>4</th>\n",
       "      <th>5</th>\n",
       "      <th>6</th>\n",
       "      <th>7</th>\n",
       "      <th>8</th>\n",
       "      <th>9</th>\n",
       "      <th>...</th>\n",
       "      <th>19</th>\n",
       "      <th>global_capacity</th>\n",
       "      <th>global_headcount</th>\n",
       "      <th>vovo_headcount</th>\n",
       "      <th>remote_headcount</th>\n",
       "      <th>date</th>\n",
       "      <th>weekly_attrition</th>\n",
       "      <th>cum_tix</th>\n",
       "      <th>total_team_size</th>\n",
       "      <th>5+</th>\n",
       "    </tr>\n",
       "  </thead>\n",
       "  <tbody>\n",
       "    <tr>\n",
       "      <th>0</th>\n",
       "      <td>0.0</td>\n",
       "      <td>0.0</td>\n",
       "      <td>0.0</td>\n",
       "      <td>0.0</td>\n",
       "      <td>0.0</td>\n",
       "      <td>0.0</td>\n",
       "      <td>0.0</td>\n",
       "      <td>0.0</td>\n",
       "      <td>0.0</td>\n",
       "      <td>0.0</td>\n",
       "      <td>...</td>\n",
       "      <td>30.0</td>\n",
       "      <td>6600.0</td>\n",
       "      <td>30.0</td>\n",
       "      <td>0.0</td>\n",
       "      <td>30.0</td>\n",
       "      <td>2024-01-28</td>\n",
       "      <td>0.0</td>\n",
       "      <td>6600.0</td>\n",
       "      <td>60.0</td>\n",
       "      <td>60.0</td>\n",
       "    </tr>\n",
       "    <tr>\n",
       "      <th>1</th>\n",
       "      <td>1.0</td>\n",
       "      <td>0.0</td>\n",
       "      <td>0.0</td>\n",
       "      <td>0.0</td>\n",
       "      <td>0.0</td>\n",
       "      <td>0.0</td>\n",
       "      <td>0.0</td>\n",
       "      <td>0.0</td>\n",
       "      <td>0.0</td>\n",
       "      <td>0.0</td>\n",
       "      <td>...</td>\n",
       "      <td>30.0</td>\n",
       "      <td>6655.0</td>\n",
       "      <td>31.0</td>\n",
       "      <td>1.0</td>\n",
       "      <td>30.0</td>\n",
       "      <td>2024-02-04</td>\n",
       "      <td>1.0</td>\n",
       "      <td>13255.0</td>\n",
       "      <td>62.0</td>\n",
       "      <td>61.0</td>\n",
       "    </tr>\n",
       "    <tr>\n",
       "      <th>2</th>\n",
       "      <td>1.0</td>\n",
       "      <td>1.0</td>\n",
       "      <td>0.0</td>\n",
       "      <td>0.0</td>\n",
       "      <td>0.0</td>\n",
       "      <td>0.0</td>\n",
       "      <td>0.0</td>\n",
       "      <td>0.0</td>\n",
       "      <td>0.0</td>\n",
       "      <td>0.0</td>\n",
       "      <td>...</td>\n",
       "      <td>30.0</td>\n",
       "      <td>6765.0</td>\n",
       "      <td>32.0</td>\n",
       "      <td>2.0</td>\n",
       "      <td>30.0</td>\n",
       "      <td>2024-02-11</td>\n",
       "      <td>1.0</td>\n",
       "      <td>20020.0</td>\n",
       "      <td>64.0</td>\n",
       "      <td>62.0</td>\n",
       "    </tr>\n",
       "    <tr>\n",
       "      <th>3</th>\n",
       "      <td>0.0</td>\n",
       "      <td>1.0</td>\n",
       "      <td>1.0</td>\n",
       "      <td>0.0</td>\n",
       "      <td>0.0</td>\n",
       "      <td>0.0</td>\n",
       "      <td>0.0</td>\n",
       "      <td>0.0</td>\n",
       "      <td>0.0</td>\n",
       "      <td>0.0</td>\n",
       "      <td>...</td>\n",
       "      <td>30.0</td>\n",
       "      <td>6875.0</td>\n",
       "      <td>32.0</td>\n",
       "      <td>2.0</td>\n",
       "      <td>30.0</td>\n",
       "      <td>2024-02-18</td>\n",
       "      <td>0.0</td>\n",
       "      <td>26895.0</td>\n",
       "      <td>64.0</td>\n",
       "      <td>62.0</td>\n",
       "    </tr>\n",
       "    <tr>\n",
       "      <th>4</th>\n",
       "      <td>0.0</td>\n",
       "      <td>0.0</td>\n",
       "      <td>1.0</td>\n",
       "      <td>1.0</td>\n",
       "      <td>0.0</td>\n",
       "      <td>0.0</td>\n",
       "      <td>0.0</td>\n",
       "      <td>0.0</td>\n",
       "      <td>0.0</td>\n",
       "      <td>0.0</td>\n",
       "      <td>...</td>\n",
       "      <td>28.0</td>\n",
       "      <td>6545.0</td>\n",
       "      <td>30.0</td>\n",
       "      <td>2.0</td>\n",
       "      <td>28.0</td>\n",
       "      <td>2024-02-25</td>\n",
       "      <td>0.0</td>\n",
       "      <td>33440.0</td>\n",
       "      <td>60.0</td>\n",
       "      <td>58.0</td>\n",
       "    </tr>\n",
       "    <tr>\n",
       "      <th>5</th>\n",
       "      <td>0.0</td>\n",
       "      <td>0.0</td>\n",
       "      <td>0.0</td>\n",
       "      <td>1.0</td>\n",
       "      <td>1.0</td>\n",
       "      <td>0.0</td>\n",
       "      <td>0.0</td>\n",
       "      <td>0.0</td>\n",
       "      <td>0.0</td>\n",
       "      <td>0.0</td>\n",
       "      <td>...</td>\n",
       "      <td>27.0</td>\n",
       "      <td>6380.0</td>\n",
       "      <td>29.0</td>\n",
       "      <td>2.0</td>\n",
       "      <td>27.0</td>\n",
       "      <td>2024-03-03</td>\n",
       "      <td>0.0</td>\n",
       "      <td>39820.0</td>\n",
       "      <td>58.0</td>\n",
       "      <td>57.0</td>\n",
       "    </tr>\n",
       "  </tbody>\n",
       "</table>\n",
       "<p>6 rows × 29 columns</p>\n",
       "</div>"
      ],
      "text/plain": [
       "     0    1    2    3    4    5    6    7    8    9  ...    19  \\\n",
       "0  0.0  0.0  0.0  0.0  0.0  0.0  0.0  0.0  0.0  0.0  ...  30.0   \n",
       "1  1.0  0.0  0.0  0.0  0.0  0.0  0.0  0.0  0.0  0.0  ...  30.0   \n",
       "2  1.0  1.0  0.0  0.0  0.0  0.0  0.0  0.0  0.0  0.0  ...  30.0   \n",
       "3  0.0  1.0  1.0  0.0  0.0  0.0  0.0  0.0  0.0  0.0  ...  30.0   \n",
       "4  0.0  0.0  1.0  1.0  0.0  0.0  0.0  0.0  0.0  0.0  ...  28.0   \n",
       "5  0.0  0.0  0.0  1.0  1.0  0.0  0.0  0.0  0.0  0.0  ...  27.0   \n",
       "\n",
       "   global_capacity  global_headcount  vovo_headcount  remote_headcount  \\\n",
       "0           6600.0              30.0             0.0              30.0   \n",
       "1           6655.0              31.0             1.0              30.0   \n",
       "2           6765.0              32.0             2.0              30.0   \n",
       "3           6875.0              32.0             2.0              30.0   \n",
       "4           6545.0              30.0             2.0              28.0   \n",
       "5           6380.0              29.0             2.0              27.0   \n",
       "\n",
       "         date  weekly_attrition  cum_tix  total_team_size    5+  \n",
       "0  2024-01-28               0.0   6600.0             60.0  60.0  \n",
       "1  2024-02-04               1.0  13255.0             62.0  61.0  \n",
       "2  2024-02-11               1.0  20020.0             64.0  62.0  \n",
       "3  2024-02-18               0.0  26895.0             64.0  62.0  \n",
       "4  2024-02-25               0.0  33440.0             60.0  58.0  \n",
       "5  2024-03-03               0.0  39820.0             58.0  57.0  \n",
       "\n",
       "[6 rows x 29 columns]"
      ]
     },
     "execution_count": 93,
     "metadata": {},
     "output_type": "execute_result"
    }
   ],
   "source": [
    "LL_agg_loc"
   ]
  },
  {
   "cell_type": "code",
   "execution_count": 94,
   "id": "7a907f8e",
   "metadata": {},
   "outputs": [
    {
     "data": {
      "application/vnd.plotly.v1+json": {
       "config": {
        "plotlyServerURL": "https://plot.ly"
       },
       "data": [
        {
         "alignmentgroup": "True",
         "hovertemplate": "date=%{x}<br>global_headcount=%{y}<extra></extra>",
         "legendgroup": "",
         "marker": {
          "color": "#000001",
          "pattern": {
           "shape": ""
          }
         },
         "name": "",
         "offsetgroup": "",
         "orientation": "v",
         "showlegend": false,
         "textposition": "auto",
         "type": "bar",
         "x": [
          "2024-01-28",
          "2024-02-04",
          "2024-02-11",
          "2024-02-18",
          "2024-02-25",
          "2024-03-03"
         ],
         "xaxis": "x",
         "y": [
          30,
          31,
          32,
          32,
          30,
          29
         ],
         "yaxis": "y"
        }
       ],
       "layout": {
        "barmode": "relative",
        "legend": {
         "tracegroupgap": 0
        },
        "margin": {
         "t": 60
        },
        "template": {
         "data": {
          "candlestick": [
           {
            "decreasing": {
             "line": {
              "color": "#000033"
             }
            },
            "increasing": {
             "line": {
              "color": "#000032"
             }
            },
            "type": "candlestick"
           }
          ],
          "contour": [
           {
            "colorscale": [
             [
              0,
              "#000011"
             ],
             [
              0.1111111111111111,
              "#000012"
             ],
             [
              0.2222222222222222,
              "#000013"
             ],
             [
              0.3333333333333333,
              "#000014"
             ],
             [
              0.4444444444444444,
              "#000015"
             ],
             [
              0.5555555555555556,
              "#000016"
             ],
             [
              0.6666666666666666,
              "#000017"
             ],
             [
              0.7777777777777778,
              "#000018"
             ],
             [
              0.8888888888888888,
              "#000019"
             ],
             [
              1,
              "#000020"
             ]
            ],
            "type": "contour"
           }
          ],
          "contourcarpet": [
           {
            "colorscale": [
             [
              0,
              "#000011"
             ],
             [
              0.1111111111111111,
              "#000012"
             ],
             [
              0.2222222222222222,
              "#000013"
             ],
             [
              0.3333333333333333,
              "#000014"
             ],
             [
              0.4444444444444444,
              "#000015"
             ],
             [
              0.5555555555555556,
              "#000016"
             ],
             [
              0.6666666666666666,
              "#000017"
             ],
             [
              0.7777777777777778,
              "#000018"
             ],
             [
              0.8888888888888888,
              "#000019"
             ],
             [
              1,
              "#000020"
             ]
            ],
            "type": "contourcarpet"
           }
          ],
          "heatmap": [
           {
            "colorscale": [
             [
              0,
              "#000011"
             ],
             [
              0.1111111111111111,
              "#000012"
             ],
             [
              0.2222222222222222,
              "#000013"
             ],
             [
              0.3333333333333333,
              "#000014"
             ],
             [
              0.4444444444444444,
              "#000015"
             ],
             [
              0.5555555555555556,
              "#000016"
             ],
             [
              0.6666666666666666,
              "#000017"
             ],
             [
              0.7777777777777778,
              "#000018"
             ],
             [
              0.8888888888888888,
              "#000019"
             ],
             [
              1,
              "#000020"
             ]
            ],
            "type": "heatmap"
           }
          ],
          "histogram2d": [
           {
            "colorscale": [
             [
              0,
              "#000011"
             ],
             [
              0.1111111111111111,
              "#000012"
             ],
             [
              0.2222222222222222,
              "#000013"
             ],
             [
              0.3333333333333333,
              "#000014"
             ],
             [
              0.4444444444444444,
              "#000015"
             ],
             [
              0.5555555555555556,
              "#000016"
             ],
             [
              0.6666666666666666,
              "#000017"
             ],
             [
              0.7777777777777778,
              "#000018"
             ],
             [
              0.8888888888888888,
              "#000019"
             ],
             [
              1,
              "#000020"
             ]
            ],
            "type": "histogram2d"
           }
          ],
          "icicle": [
           {
            "textfont": {
             "color": "white"
            },
            "type": "icicle"
           }
          ],
          "sankey": [
           {
            "textfont": {
             "color": "#000036"
            },
            "type": "sankey"
           }
          ],
          "scatter": [
           {
            "marker": {
             "line": {
              "width": 0
             }
            },
            "type": "scatter"
           }
          ],
          "table": [
           {
            "cells": {
             "fill": {
              "color": "#000038"
             },
             "font": {
              "color": "#000037"
             },
             "line": {
              "color": "#000039"
             }
            },
            "header": {
             "fill": {
              "color": "#000040"
             },
             "font": {
              "color": "#000036"
             },
             "line": {
              "color": "#000039"
             }
            },
            "type": "table"
           }
          ],
          "waterfall": [
           {
            "connector": {
             "line": {
              "color": "#000036",
              "width": 2
             }
            },
            "decreasing": {
             "marker": {
              "color": "#000033"
             }
            },
            "increasing": {
             "marker": {
              "color": "#000032"
             }
            },
            "totals": {
             "marker": {
              "color": "#000034"
             }
            },
            "type": "waterfall"
           }
          ]
         },
         "layout": {
          "coloraxis": {
           "colorscale": [
            [
             0,
             "#000011"
            ],
            [
             0.1111111111111111,
             "#000012"
            ],
            [
             0.2222222222222222,
             "#000013"
            ],
            [
             0.3333333333333333,
             "#000014"
            ],
            [
             0.4444444444444444,
             "#000015"
            ],
            [
             0.5555555555555556,
             "#000016"
            ],
            [
             0.6666666666666666,
             "#000017"
            ],
            [
             0.7777777777777778,
             "#000018"
            ],
            [
             0.8888888888888888,
             "#000019"
            ],
            [
             1,
             "#000020"
            ]
           ]
          },
          "colorscale": {
           "diverging": [
            [
             0,
             "#000021"
            ],
            [
             0.1,
             "#000022"
            ],
            [
             0.2,
             "#000023"
            ],
            [
             0.3,
             "#000024"
            ],
            [
             0.4,
             "#000025"
            ],
            [
             0.5,
             "#000026"
            ],
            [
             0.6,
             "#000027"
            ],
            [
             0.7,
             "#000028"
            ],
            [
             0.8,
             "#000029"
            ],
            [
             0.9,
             "#000030"
            ],
            [
             1,
             "#000031"
            ]
           ],
           "sequential": [
            [
             0,
             "#000011"
            ],
            [
             0.1111111111111111,
             "#000012"
            ],
            [
             0.2222222222222222,
             "#000013"
            ],
            [
             0.3333333333333333,
             "#000014"
            ],
            [
             0.4444444444444444,
             "#000015"
            ],
            [
             0.5555555555555556,
             "#000016"
            ],
            [
             0.6666666666666666,
             "#000017"
            ],
            [
             0.7777777777777778,
             "#000018"
            ],
            [
             0.8888888888888888,
             "#000019"
            ],
            [
             1,
             "#000020"
            ]
           ],
           "sequentialminus": [
            [
             0,
             "#000011"
            ],
            [
             0.1111111111111111,
             "#000012"
            ],
            [
             0.2222222222222222,
             "#000013"
            ],
            [
             0.3333333333333333,
             "#000014"
            ],
            [
             0.4444444444444444,
             "#000015"
            ],
            [
             0.5555555555555556,
             "#000016"
            ],
            [
             0.6666666666666666,
             "#000017"
            ],
            [
             0.7777777777777778,
             "#000018"
            ],
            [
             0.8888888888888888,
             "#000019"
            ],
            [
             1,
             "#000020"
            ]
           ]
          },
          "colorway": [
           "#000001",
           "#000002",
           "#000003",
           "#000004",
           "#000005",
           "#000006",
           "#000007",
           "#000008",
           "#000009",
           "#000010"
          ]
         }
        },
        "xaxis": {
         "anchor": "y",
         "domain": [
          0,
          1
         ],
         "title": {
          "text": "Date"
         }
        },
        "yaxis": {
         "anchor": "x",
         "domain": [
          0,
          1
         ],
         "title": {
          "text": "Estimated Required Headcount"
         }
        }
       }
      },
      "text/html": [
       "<div>                            <div id=\"3cb9f928-80b4-4c29-9557-56d517eaafc4\" class=\"plotly-graph-div\" style=\"height:525px; width:100%;\"></div>            <script type=\"text/javascript\">                require([\"plotly\"], function(Plotly) {                    window.PLOTLYENV=window.PLOTLYENV || {};                                    if (document.getElementById(\"3cb9f928-80b4-4c29-9557-56d517eaafc4\")) {                    Plotly.newPlot(                        \"3cb9f928-80b4-4c29-9557-56d517eaafc4\",                        [{\"alignmentgroup\":\"True\",\"hovertemplate\":\"date=%{x}<br>global_headcount=%{y}<extra></extra>\",\"legendgroup\":\"\",\"marker\":{\"color\":\"#000001\",\"pattern\":{\"shape\":\"\"}},\"name\":\"\",\"offsetgroup\":\"\",\"orientation\":\"v\",\"showlegend\":false,\"textposition\":\"auto\",\"x\":[\"2024-01-28\",\"2024-02-04\",\"2024-02-11\",\"2024-02-18\",\"2024-02-25\",\"2024-03-03\"],\"xaxis\":\"x\",\"y\":[30.0,31.0,32.0,32.0,30.0,29.0],\"yaxis\":\"y\",\"type\":\"bar\"}],                        {\"template\":{\"data\":{\"candlestick\":[{\"decreasing\":{\"line\":{\"color\":\"#000033\"}},\"increasing\":{\"line\":{\"color\":\"#000032\"}},\"type\":\"candlestick\"}],\"contourcarpet\":[{\"colorscale\":[[0.0,\"#000011\"],[0.1111111111111111,\"#000012\"],[0.2222222222222222,\"#000013\"],[0.3333333333333333,\"#000014\"],[0.4444444444444444,\"#000015\"],[0.5555555555555556,\"#000016\"],[0.6666666666666666,\"#000017\"],[0.7777777777777778,\"#000018\"],[0.8888888888888888,\"#000019\"],[1.0,\"#000020\"]],\"type\":\"contourcarpet\"}],\"contour\":[{\"colorscale\":[[0.0,\"#000011\"],[0.1111111111111111,\"#000012\"],[0.2222222222222222,\"#000013\"],[0.3333333333333333,\"#000014\"],[0.4444444444444444,\"#000015\"],[0.5555555555555556,\"#000016\"],[0.6666666666666666,\"#000017\"],[0.7777777777777778,\"#000018\"],[0.8888888888888888,\"#000019\"],[1.0,\"#000020\"]],\"type\":\"contour\"}],\"heatmap\":[{\"colorscale\":[[0.0,\"#000011\"],[0.1111111111111111,\"#000012\"],[0.2222222222222222,\"#000013\"],[0.3333333333333333,\"#000014\"],[0.4444444444444444,\"#000015\"],[0.5555555555555556,\"#000016\"],[0.6666666666666666,\"#000017\"],[0.7777777777777778,\"#000018\"],[0.8888888888888888,\"#000019\"],[1.0,\"#000020\"]],\"type\":\"heatmap\"}],\"histogram2d\":[{\"colorscale\":[[0.0,\"#000011\"],[0.1111111111111111,\"#000012\"],[0.2222222222222222,\"#000013\"],[0.3333333333333333,\"#000014\"],[0.4444444444444444,\"#000015\"],[0.5555555555555556,\"#000016\"],[0.6666666666666666,\"#000017\"],[0.7777777777777778,\"#000018\"],[0.8888888888888888,\"#000019\"],[1.0,\"#000020\"]],\"type\":\"histogram2d\"}],\"icicle\":[{\"textfont\":{\"color\":\"white\"},\"type\":\"icicle\"}],\"sankey\":[{\"textfont\":{\"color\":\"#000036\"},\"type\":\"sankey\"}],\"scatter\":[{\"marker\":{\"line\":{\"width\":0}},\"type\":\"scatter\"}],\"table\":[{\"cells\":{\"fill\":{\"color\":\"#000038\"},\"font\":{\"color\":\"#000037\"},\"line\":{\"color\":\"#000039\"}},\"header\":{\"fill\":{\"color\":\"#000040\"},\"font\":{\"color\":\"#000036\"},\"line\":{\"color\":\"#000039\"}},\"type\":\"table\"}],\"waterfall\":[{\"connector\":{\"line\":{\"color\":\"#000036\",\"width\":2}},\"decreasing\":{\"marker\":{\"color\":\"#000033\"}},\"increasing\":{\"marker\":{\"color\":\"#000032\"}},\"totals\":{\"marker\":{\"color\":\"#000034\"}},\"type\":\"waterfall\"}]},\"layout\":{\"coloraxis\":{\"colorscale\":[[0.0,\"#000011\"],[0.1111111111111111,\"#000012\"],[0.2222222222222222,\"#000013\"],[0.3333333333333333,\"#000014\"],[0.4444444444444444,\"#000015\"],[0.5555555555555556,\"#000016\"],[0.6666666666666666,\"#000017\"],[0.7777777777777778,\"#000018\"],[0.8888888888888888,\"#000019\"],[1.0,\"#000020\"]]},\"colorscale\":{\"diverging\":[[0.0,\"#000021\"],[0.1,\"#000022\"],[0.2,\"#000023\"],[0.3,\"#000024\"],[0.4,\"#000025\"],[0.5,\"#000026\"],[0.6,\"#000027\"],[0.7,\"#000028\"],[0.8,\"#000029\"],[0.9,\"#000030\"],[1.0,\"#000031\"]],\"sequential\":[[0.0,\"#000011\"],[0.1111111111111111,\"#000012\"],[0.2222222222222222,\"#000013\"],[0.3333333333333333,\"#000014\"],[0.4444444444444444,\"#000015\"],[0.5555555555555556,\"#000016\"],[0.6666666666666666,\"#000017\"],[0.7777777777777778,\"#000018\"],[0.8888888888888888,\"#000019\"],[1.0,\"#000020\"]],\"sequentialminus\":[[0.0,\"#000011\"],[0.1111111111111111,\"#000012\"],[0.2222222222222222,\"#000013\"],[0.3333333333333333,\"#000014\"],[0.4444444444444444,\"#000015\"],[0.5555555555555556,\"#000016\"],[0.6666666666666666,\"#000017\"],[0.7777777777777778,\"#000018\"],[0.8888888888888888,\"#000019\"],[1.0,\"#000020\"]]},\"colorway\":[\"#000001\",\"#000002\",\"#000003\",\"#000004\",\"#000005\",\"#000006\",\"#000007\",\"#000008\",\"#000009\",\"#000010\"]}},\"xaxis\":{\"anchor\":\"y\",\"domain\":[0.0,1.0],\"title\":{\"text\":\"Date\"}},\"yaxis\":{\"anchor\":\"x\",\"domain\":[0.0,1.0],\"title\":{\"text\":\"Estimated Required Headcount\"}},\"legend\":{\"tracegroupgap\":0},\"margin\":{\"t\":60},\"barmode\":\"relative\"},                        {\"responsive\": true}                    ).then(function(){\n",
       "                            \n",
       "var gd = document.getElementById('3cb9f928-80b4-4c29-9557-56d517eaafc4');\n",
       "var x = new MutationObserver(function (mutations, observer) {{\n",
       "        var display = window.getComputedStyle(gd).display;\n",
       "        if (!display || display === 'none') {{\n",
       "            console.log([gd, 'removed!']);\n",
       "            Plotly.purge(gd);\n",
       "            observer.disconnect();\n",
       "        }}\n",
       "}});\n",
       "\n",
       "// Listen for the removal of the full notebook cells\n",
       "var notebookContainer = gd.closest('#notebook-container');\n",
       "if (notebookContainer) {{\n",
       "    x.observe(notebookContainer, {childList: true});\n",
       "}}\n",
       "\n",
       "// Listen for the clearing of the current output cell\n",
       "var outputEl = gd.closest('.output');\n",
       "if (outputEl) {{\n",
       "    x.observe(outputEl, {childList: true});\n",
       "}}\n",
       "\n",
       "                        })                };                });            </script>        </div>"
      ]
     },
     "metadata": {},
     "output_type": "display_data"
    }
   ],
   "source": [
    "fig = px.bar(LL_agg_loc, x = 'date', y = 'global_headcount')\n",
    "fig.update_layout(\n",
    "    xaxis_title=\"Date\", yaxis_title=\"Estimated Required Headcount\"\n",
    ")"
   ]
  },
  {
   "cell_type": "code",
   "execution_count": null,
   "id": "277b66c1",
   "metadata": {},
   "outputs": [],
   "source": []
  }
 ],
 "metadata": {
  "kernelspec": {
   "display_name": "Python 3 (ipykernel)",
   "language": "python",
   "name": "python3"
  },
  "language_info": {
   "codemirror_mode": {
    "name": "ipython",
    "version": 3
   },
   "file_extension": ".py",
   "mimetype": "text/x-python",
   "name": "python",
   "nbconvert_exporter": "python",
   "pygments_lexer": "ipython3",
   "version": "3.9.12"
  }
 },
 "nbformat": 4,
 "nbformat_minor": 5
}
