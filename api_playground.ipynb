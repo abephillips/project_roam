{
 "cells": [
  {
   "cell_type": "code",
   "execution_count": 1,
   "metadata": {},
   "outputs": [],
   "source": [
    "import streamlit as st\n",
    "import time\n",
    "import joblib\n",
    "import simpy\n",
    "\n",
    "import pandas as pd\n",
    "import numpy as np\n",
    "import plotly.express as px\n",
    "import plotly.graph_objects as go\n",
    "\n",
    "import openpyxl\n",
    "import tempfile\n",
    "\n",
    "# from models.VOVO import *\n",
    "import random"
   ]
  },
  {
   "cell_type": "code",
   "execution_count": 2,
   "metadata": {},
   "outputs": [],
   "source": [
    "from utils.helpers import *"
   ]
  },
  {
   "cell_type": "code",
   "execution_count": 3,
   "metadata": {},
   "outputs": [],
   "source": [
    "attrition_model = joblib.load(\"./models/attrition_model.joblib\")"
   ]
  },
  {
   "cell_type": "code",
   "execution_count": 4,
   "metadata": {},
   "outputs": [],
   "source": [
    "target_capacity = pd.DataFrame(index = pd.date_range('07/03/2023', '12/26/2023', freq = 'W'))\n",
    "target_capacity['values'] = 3000"
   ]
  },
  {
   "cell_type": "code",
   "execution_count": 5,
   "metadata": {},
   "outputs": [],
   "source": [
    "# temporaty! define ramping function\n",
    "def ramping_function(week, ppr_list): \n",
    "    for w, tickets in enumerate(ppr_list): \n",
    "        if week == w: \n",
    "            return tickets\n",
    "    return ppr_list[-1]\n",
    "\n",
    "ppr_list = [13, 26, 39, 65]\n",
    "ramping_function_sched = lambda n : ramping_function(n, ppr_list = ppr_list)"
   ]
  },
  {
   "cell_type": "code",
   "execution_count": 8,
   "metadata": {},
   "outputs": [],
   "source": [
    "def Simulation(target_capacity, \n",
    "               ramping_function = ramping_function_sched,\n",
    "               attrition_model = attrition_model):\n",
    "    \n",
    "    start_date = target_capacity.index.min()\n",
    "    end_date = target_capacity.index.max()\n",
    "    target_capacity = target_capacity.values\n",
    "    N = np.ceil(target_capacity[0] / ramping_function(5))\n",
    "    mode = 'capacity'\n",
    "    \n",
    "    n_weeks = 12\n",
    "\n",
    "    sim_len = (end_date - start_date).days // 7    \n",
    "    record = np.zeros((sim_len, n_weeks + sim_len + 2))\n",
    "\n",
    "    env = simpy.Environment()\n",
    "    team = Team(env, attrition_model, ramping_function)\n",
    "    \n",
    "    env.process(\n",
    "        sustain(env = env, N = N, record = record, start_date = start_date, end_date = end_date, n_weeks = n_weeks, target_capacity = target_capacity,\n",
    "                team = team, mode = mode)\n",
    "    )\n",
    "    env.run(sim_len)\n",
    "    \n",
    "    rf = np.vectorize(ramping_function)\n",
    "    period = pd.date_range(start_date, end_date, freq = 'W', inclusive = 'left')\n",
    "    df = pd.DataFrame(record)\n",
    "    df = df.assign(\n",
    "        global_capacity = np.dot(df.iloc[:, :-2].values, rf(df.iloc[:, :-2].columns).T),\n",
    "        global_headcount = (df.iloc[:, -2] + df.iloc[:, -1]), \n",
    "        vovo_headcount = df.iloc[:, -2], \n",
    "        remote_headcount = df.iloc[:, -1], \n",
    "        date = period\n",
    "    )\n",
    "    \n",
    "    r, c = record.shape\n",
    "    df['weekly_attrition'] = df[0]\n",
    "\n",
    "    LL_agg = df.copy()\n",
    "\n",
    "    LL_agg['month'] = LL_agg.date.dt.month\n",
    "    LL_agg['Year'] = LL_agg.date.dt.year\n",
    "    LL_agg['Quarter'] = np.nan\n",
    "    LL_agg.loc[LL_agg.month == 1, 'Quarter'] = 1\n",
    "    LL_agg.loc[LL_agg.month == 4, 'Quarter'] = 2\n",
    "    LL_agg.loc[LL_agg.month == 7, 'Quarter'] = 3\n",
    "    LL_agg.loc[LL_agg.month == 10, 'Quarter'] = 4\n",
    "\n",
    "    LL_agg = LL_agg.fillna(method = 'ffill')\n",
    "    LL_agg['last_q'] = LL_agg['Quarter'].shift(1)\n",
    "\n",
    "    LL_agg['cum_tix'] = LL_agg.groupby(['Quarter', 'Year']).global_capacity.cumsum()\n",
    "    LL_agg_loc = LL_agg.copy()\n",
    "\n",
    "    LL_agg_loc['total_team_size'] = LL_agg_loc.loc[:, 0:c-1].sum(axis = 1)\n",
    "    LL_agg_loc['5+'] = LL_agg_loc.loc[:, 4:c-1].sum(axis = 1)\n",
    "    LL_agg_loc['date'] = pd.to_datetime(LL_agg_loc['date']).dt.date\n",
    "\n",
    "    return LL_agg, LL_agg_loc\n",
    "    # return df, initial_headcount"
   ]
  },
  {
   "cell_type": "code",
   "execution_count": 9,
   "metadata": {},
   "outputs": [
    {
     "name": "stdout",
     "output_type": "stream",
     "text": [
      "[3055.]\n"
     ]
    }
   ],
   "source": [
    "LL_agg, LL_agg_loc = Simulation(target_capacity)"
   ]
  },
  {
   "cell_type": "code",
   "execution_count": 2,
   "metadata": {},
   "outputs": [],
   "source": [
    "import gspread\n",
    "import pandas as pd"
   ]
  },
  {
   "cell_type": "code",
   "execution_count": 12,
   "metadata": {},
   "outputs": [],
   "source": [
    "sheetid = '1NeB007_XiylxDMfw1pCJ69b0VtO2L8VwBC_V6oZTZew'\n",
    "sheetname = 'Sheet1'\n",
    "\n",
    "gc = gspread.service_account('rsr-sandbox-sbx-3a2f-a12b8bf825d2.json')\n",
    "\n",
    "spreadsheet = gc.open_by_key(sheetid)\n",
    "\n",
    "worksheet = spreadsheet.worksheet(sheetname)\n",
    "rows = worksheet.get_all_records()"
   ]
  },
  {
   "cell_type": "code",
   "execution_count": 13,
   "metadata": {},
   "outputs": [],
   "source": [
    "df = pd.DataFrame(rows)"
   ]
  },
  {
   "cell_type": "code",
   "execution_count": 14,
   "metadata": {},
   "outputs": [
    {
     "data": {
      "text/html": [
       "<div>\n",
       "<style scoped>\n",
       "    .dataframe tbody tr th:only-of-type {\n",
       "        vertical-align: middle;\n",
       "    }\n",
       "\n",
       "    .dataframe tbody tr th {\n",
       "        vertical-align: top;\n",
       "    }\n",
       "\n",
       "    .dataframe thead th {\n",
       "        text-align: right;\n",
       "    }\n",
       "</style>\n",
       "<table border=\"1\" class=\"dataframe\">\n",
       "  <thead>\n",
       "    <tr style=\"text-align: right;\">\n",
       "      <th></th>\n",
       "      <th>A</th>\n",
       "      <th>B</th>\n",
       "      <th>C</th>\n",
       "    </tr>\n",
       "  </thead>\n",
       "  <tbody>\n",
       "    <tr>\n",
       "      <td>0</td>\n",
       "      <td>9</td>\n",
       "      <td>7</td>\n",
       "      <td>7</td>\n",
       "    </tr>\n",
       "    <tr>\n",
       "      <td>1</td>\n",
       "      <td>5</td>\n",
       "      <td>4</td>\n",
       "      <td>2</td>\n",
       "    </tr>\n",
       "  </tbody>\n",
       "</table>\n",
       "</div>"
      ],
      "text/plain": [
       "   A  B  C\n",
       "0  9  7  7\n",
       "1  5  4  2"
      ]
     },
     "execution_count": 14,
     "metadata": {},
     "output_type": "execute_result"
    }
   ],
   "source": [
    "df"
   ]
  }
 ],
 "metadata": {
  "kernelspec": {
   "display_name": "Python 3",
   "language": "python",
   "name": "python3"
  },
  "language_info": {
   "codemirror_mode": {
    "name": "ipython",
    "version": 3
   },
   "file_extension": ".py",
   "mimetype": "text/x-python",
   "name": "python",
   "nbconvert_exporter": "python",
   "pygments_lexer": "ipython3",
   "version": "3.7.4"
  }
 },
 "nbformat": 4,
 "nbformat_minor": 5
}
